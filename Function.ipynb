{
  "nbformat": 4,
  "nbformat_minor": 0,
  "metadata": {
    "colab": {
      "provenance": []
    },
    "kernelspec": {
      "name": "python3",
      "display_name": "Python 3"
    },
    "language_info": {
      "name": "python"
    }
  },
  "cells": [
    {
      "cell_type": "markdown",
      "source": [
        "**# Theory Questions #**"
      ],
      "metadata": {
        "id": "J1cbvC94xtEb"
      }
    },
    {
      "cell_type": "markdown",
      "source": [
        "**Q.1 What is the difference between a function and a method in Python?**\n",
        "\n",
        "   =>\n",
        "   \n",
        "   **Function:** A block of code that is not tied to any class or object. It can be called by its name directly.\n",
        "   \n",
        "   Example\n",
        "\n"
      ],
      "metadata": {
        "id": "Pxav-vFIxyaU"
      }
    },
    {
      "cell_type": "code",
      "source": [
        "def greet(name):\n",
        "    return f\"Hello, {name}!\"\n",
        "print(greet(\"Alice\"))\n"
      ],
      "metadata": {
        "id": "ISPxjGWFzd3M",
        "colab": {
          "base_uri": "https://localhost:8080/"
        },
        "outputId": "93aaeb3a-52df-47b0-d3db-af22ce9a711c"
      },
      "execution_count": null,
      "outputs": [
        {
          "output_type": "stream",
          "name": "stdout",
          "text": [
            "Hello, Alice!\n"
          ]
        }
      ]
    },
    {
      "cell_type": "markdown",
      "source": [
        "**Method:** A function that is tied to an object or class. It operates on the instance or class data.\n",
        "\n",
        "Example"
      ],
      "metadata": {
        "id": "cjkPGzFSzq4D"
      }
    },
    {
      "cell_type": "code",
      "source": [
        "class Greeter:\n",
        "    def __init__(self, name):\n",
        "        self.name = name\n",
        "\n",
        "    def greet(self):\n",
        "        return f\"Hello, {self.name}!\"\n",
        "\n",
        "greeter = Greeter(\"Bob\")\n",
        "print(greeter.greet())  # Method call\n"
      ],
      "metadata": {
        "id": "dElh4dwLz2Q7",
        "colab": {
          "base_uri": "https://localhost:8080/"
        },
        "outputId": "7fb64321-d563-4d07-a55c-3a9594796311"
      },
      "execution_count": null,
      "outputs": [
        {
          "output_type": "stream",
          "name": "stdout",
          "text": [
            "Hello, Bob!\n"
          ]
        }
      ]
    },
    {
      "cell_type": "markdown",
      "source": [
        "**Q.2 Explain the concept of function arguments and parameters in Python**"
      ],
      "metadata": {
        "id": "IsywBdi_z526"
      }
    },
    {
      "cell_type": "markdown",
      "source": [
        "**Parameters** are the variables that are defined in the function signature.\n",
        "\n",
        "**Arguments** are the values passed to the function when it is called.\n",
        "Example:"
      ],
      "metadata": {
        "id": "V4XbCFjR0QcL"
      }
    },
    {
      "cell_type": "code",
      "source": [
        "def add(a, b):  # a and b are parameters\n",
        "    return a + b\n",
        "\n",
        "result = add(3, 5)  # 3 and 5 are arguments\n",
        "print(result)\n"
      ],
      "metadata": {
        "id": "wNNKLy5h0Zpj",
        "colab": {
          "base_uri": "https://localhost:8080/"
        },
        "outputId": "29d91ace-d1af-49cb-a0f5-ab108e78ee03"
      },
      "execution_count": null,
      "outputs": [
        {
          "output_type": "stream",
          "name": "stdout",
          "text": [
            "8\n"
          ]
        }
      ]
    },
    {
      "cell_type": "markdown",
      "source": [
        "**Q.3. What are the different ways to define and call a function in Python?**"
      ],
      "metadata": {
        "id": "-a3PIZ4O0d3M"
      }
    },
    {
      "cell_type": "markdown",
      "source": [
        "**Standard**"
      ],
      "metadata": {
        "id": "iqW-Cnsh0qdi"
      }
    },
    {
      "cell_type": "code",
      "source": [
        "def add(a, b):\n",
        "    return a + b\n",
        "print(add(3, 4))\n"
      ],
      "metadata": {
        "id": "et4UbPAX0wmc",
        "colab": {
          "base_uri": "https://localhost:8080/"
        },
        "outputId": "2015adf7-7324-41be-8452-84b0b2714d98"
      },
      "execution_count": null,
      "outputs": [
        {
          "output_type": "stream",
          "name": "stdout",
          "text": [
            "7\n"
          ]
        }
      ]
    },
    {
      "cell_type": "markdown",
      "source": [
        "**Lambda function (Anonymous function)**"
      ],
      "metadata": {
        "id": "8k6nqZMR0zLK"
      }
    },
    {
      "cell_type": "code",
      "source": [
        "add = lambda a, b: a + b\n",
        "print(add(3, 4))\n"
      ],
      "metadata": {
        "id": "aCb2U2EQ06VS",
        "colab": {
          "base_uri": "https://localhost:8080/"
        },
        "outputId": "41da188d-5318-4b92-8dbc-bb81544cfb17"
      },
      "execution_count": null,
      "outputs": [
        {
          "output_type": "stream",
          "name": "stdout",
          "text": [
            "7\n"
          ]
        }
      ]
    },
    {
      "cell_type": "markdown",
      "source": [
        "**Q.4. What is the purpose of the `return` statement in a Python function?**\n",
        "\n",
        "=> The return statement is used to send a result back from a function. It terminates the function's execution and returns the specified value to the caller."
      ],
      "metadata": {
        "id": "x212Dshg0_qz"
      }
    },
    {
      "cell_type": "code",
      "source": [
        "def square(x):\n",
        "    return x * x\n",
        "result = square(5)\n",
        "print(result)\n"
      ],
      "metadata": {
        "id": "2IngWsLc1ReR",
        "colab": {
          "base_uri": "https://localhost:8080/"
        },
        "outputId": "500e0895-fae0-45ba-dc20-5d231081d67c"
      },
      "execution_count": null,
      "outputs": [
        {
          "output_type": "stream",
          "name": "stdout",
          "text": [
            "25\n"
          ]
        }
      ]
    },
    {
      "cell_type": "markdown",
      "source": [
        "**Q.5 What are iterators in Python and how do they differ from iterables?**"
      ],
      "metadata": {
        "id": "L8XvXgbk1TF5"
      }
    },
    {
      "cell_type": "markdown",
      "source": [
        "**Iterable:** An object that can return an iterator (e.g., list, tuple, string).\n",
        "\n",
        "**Iterator:** An object that represents a stream of data, which can be iterated over (using __next__()) until it is exhausted."
      ],
      "metadata": {
        "id": "YYyySwb61hWh"
      }
    },
    {
      "cell_type": "code",
      "source": [
        "my_list = [1, 2, 3]\n",
        "my_iterator = iter(my_list)  # Creating an iterator from the iterable\n",
        "print(next(my_iterator))  # Outputs 1\n",
        "print(next(my_iterator))  # Outputs 2\n"
      ],
      "metadata": {
        "id": "cd7mwVJk1s05",
        "colab": {
          "base_uri": "https://localhost:8080/"
        },
        "outputId": "a5037e87-fc3b-4a2b-b755-42021c80c75b"
      },
      "execution_count": null,
      "outputs": [
        {
          "output_type": "stream",
          "name": "stdout",
          "text": [
            "1\n",
            "2\n"
          ]
        }
      ]
    },
    {
      "cell_type": "markdown",
      "source": [
        "**Q.6. Explain the concept of generators in Python and how they are defined.**\n",
        "\n",
        " => Generators are a type of iterable, like lists, but instead of storing the entire sequence in memory, they generate values on the fly using the yield keyword."
      ],
      "metadata": {
        "id": "9V17ukbb1zvp"
      }
    },
    {
      "cell_type": "code",
      "source": [
        "def count_up_to(n):\n",
        "    count = 1\n",
        "    while count <= n:\n",
        "        yield count\n",
        "        count += 1\n",
        "\n",
        "counter = count_up_to(5)\n",
        "for num in counter:\n",
        "    print(num)\n"
      ],
      "metadata": {
        "id": "QPYJZlWY18bj",
        "colab": {
          "base_uri": "https://localhost:8080/"
        },
        "outputId": "703ee266-213d-42d3-8b9c-af1afa9b8de3"
      },
      "execution_count": null,
      "outputs": [
        {
          "output_type": "stream",
          "name": "stdout",
          "text": [
            "1\n",
            "2\n",
            "3\n",
            "4\n",
            "5\n"
          ]
        }
      ]
    },
    {
      "cell_type": "markdown",
      "source": [
        "**Q.7. What are the advantages of using generators over regular functions?**\n",
        "\n",
        "Generators save memory because they yield values one by one instead of returning the entire sequence.\n",
        "\n",
        "They are more efficient for large datasets as they generate values only when needed."
      ],
      "metadata": {
        "id": "T8uuTwR01_sy"
      }
    },
    {
      "cell_type": "markdown",
      "source": [
        "**Q.8. What is a lambda function in Python and when is it typically used?**\n",
        "\n",
        " => A lambda function is a small, anonymous function defined with the lambda keyword. It can have any number of arguments but only one expression."
      ],
      "metadata": {
        "id": "FCJDWRrj2MGx"
      }
    },
    {
      "cell_type": "code",
      "source": [
        "add = lambda x, y: x + y\n",
        "print(add(2, 3))\n"
      ],
      "metadata": {
        "id": "e9WGLn1T2YSI",
        "colab": {
          "base_uri": "https://localhost:8080/"
        },
        "outputId": "53193935-303c-45bf-e6d1-50fcdc4a0f6e"
      },
      "execution_count": null,
      "outputs": [
        {
          "output_type": "stream",
          "name": "stdout",
          "text": [
            "5\n"
          ]
        }
      ]
    },
    {
      "cell_type": "markdown",
      "source": [
        "Lambda functions are used when you need a quick, one-line function for small tasks, often in functions like map(), filter(), or sorted()"
      ],
      "metadata": {
        "id": "gRoFHY3s2qeZ"
      }
    },
    {
      "cell_type": "markdown",
      "source": [
        "**Q.9. Explain the purpose and usage of the `map()` function in Python.**\n",
        "\n",
        "=> map() applies a function to all items in an input list (or other iterable) and returns a map object (which can be converted to a list)."
      ],
      "metadata": {
        "id": "cG79OMzB2rrI"
      }
    },
    {
      "cell_type": "code",
      "source": [
        "nums = [1, 2, 3, 4]\n",
        "squares = map(lambda x: x ** 2, nums)\n",
        "print(list(squares))\n"
      ],
      "metadata": {
        "id": "0gi8-vCB3ACR",
        "colab": {
          "base_uri": "https://localhost:8080/"
        },
        "outputId": "c898d769-073a-4cff-c453-106b5a335e4e"
      },
      "execution_count": null,
      "outputs": [
        {
          "output_type": "stream",
          "name": "stdout",
          "text": [
            "[1, 4, 9, 16]\n"
          ]
        }
      ]
    },
    {
      "cell_type": "markdown",
      "source": [
        "**Q.10. What is the difference between `map()`, `reduce()`, and `filter()` functions in Python?**\n",
        "\n",
        " =>\n",
        "\n",
        " **map():** Applies a function to each item in an iterable and returns a map object."
      ],
      "metadata": {
        "id": "-a3HacX83IqA"
      }
    },
    {
      "cell_type": "code",
      "source": [
        "nums = [1, 2, 3, 4]\n",
        "print(list(map(lambda x: x * 2, nums)))\n"
      ],
      "metadata": {
        "id": "Tr27n2H_3ZOZ",
        "colab": {
          "base_uri": "https://localhost:8080/"
        },
        "collapsed": true,
        "outputId": "ef802a8c-8f1f-4a12-cb43-7f4a09b10875"
      },
      "execution_count": null,
      "outputs": [
        {
          "output_type": "stream",
          "name": "stdout",
          "text": [
            "[2, 4, 6, 8]\n"
          ]
        }
      ]
    },
    {
      "cell_type": "markdown",
      "source": [
        "**reduce():** Applies a function cumulatively to the items of an iterable, reducing it to a single value."
      ],
      "metadata": {
        "id": "Idv_fzOu3fE4"
      }
    },
    {
      "cell_type": "code",
      "source": [
        "from functools import reduce\n",
        "nums = [1, 2, 3, 4]\n",
        "result = reduce(lambda x, y: x + y, nums)\n",
        "print(result)  # Output: 10\n"
      ],
      "metadata": {
        "id": "CyuFfKE83i3g"
      },
      "execution_count": null,
      "outputs": []
    },
    {
      "cell_type": "markdown",
      "source": [
        "**filter():** Filters the iterable by applying a function that returns True or False."
      ],
      "metadata": {
        "id": "d43Lkq723l8w"
      }
    },
    {
      "cell_type": "code",
      "source": [
        "nums = [1, 2, 3, 4, 5]\n",
        "even_nums = filter(lambda x: x % 2 == 0, nums)\n",
        "print(list(even_nums))  # Output: [2, 4]\n"
      ],
      "metadata": {
        "id": "hal3YdvQ3rRA",
        "colab": {
          "base_uri": "https://localhost:8080/"
        },
        "outputId": "26676d0a-bd18-4e81-f463-c879f08e37c5"
      },
      "execution_count": null,
      "outputs": [
        {
          "output_type": "stream",
          "name": "stdout",
          "text": [
            "[2, 4]\n"
          ]
        }
      ]
    },
    {
      "cell_type": "markdown",
      "source": [
        "**Q.11. 11. Using pen & Paper write the internal mechanism for sum operation using reduce function on this given list:[47,11,42,13];**\n",
        "\n",
        " => The reduce() function in Python applies a given function cumulatively to the elements of an iterable, reducing it to a single result.\n",
        "\n",
        "Example:\n",
        "For the list [47, 11, 42, 13]:\n",
        "\n",
        "1. First, add the first two elements: 47 + 11 = 58\n",
        "2. Add the result to the next element: 58 + 42 = 100\n",
        "3. Add the result to the last element: 100 + 13 = 113"
      ],
      "metadata": {
        "id": "eG3GanUf4p6S"
      }
    },
    {
      "cell_type": "code",
      "source": [
        "from functools import reduce\n",
        "\n",
        "numbers = [47, 11, 42, 13]\n",
        "result = reduce(lambda x, y: x + y, numbers)\n",
        "print(result)  # Output: 113\n"
      ],
      "metadata": {
        "colab": {
          "base_uri": "https://localhost:8080/"
        },
        "id": "L8KI8ZHicCpl",
        "outputId": "8823d835-8558-47c3-c1b4-4e3cc71dda15"
      },
      "execution_count": null,
      "outputs": [
        {
          "output_type": "stream",
          "name": "stdout",
          "text": [
            "113\n"
          ]
        }
      ]
    },
    {
      "cell_type": "markdown",
      "source": [
        "**# Practical Questions #**"
      ],
      "metadata": {
        "id": "woWMu7KF6DTI"
      }
    },
    {
      "cell_type": "markdown",
      "source": [
        "**Q.1. Write a Python function that takes a list of numbers as input and returns the sum of all even numbers in\n",
        "the list.**"
      ],
      "metadata": {
        "id": "dQ79FDGzChLu"
      }
    },
    {
      "cell_type": "code",
      "source": [
        "def sum_even_numbers(nums):\n",
        "    return sum(num for num in nums if num % 2 == 0)\n",
        "\n",
        "print(sum_even_numbers([1, 2, 3, 4, 5, 6]))  # Output: 12\n"
      ],
      "metadata": {
        "id": "LUh18-UAD5GS",
        "colab": {
          "base_uri": "https://localhost:8080/"
        },
        "outputId": "c8873f8a-dd75-4bb9-88c7-a6493959195a"
      },
      "execution_count": null,
      "outputs": [
        {
          "output_type": "stream",
          "name": "stdout",
          "text": [
            "12\n"
          ]
        }
      ]
    },
    {
      "cell_type": "markdown",
      "source": [
        "**Q. 2. Create a Python function that accepts a string and returns the reverse of that string.**"
      ],
      "metadata": {
        "id": "7U3NZklvD9ri"
      }
    },
    {
      "cell_type": "code",
      "source": [
        "def reverse_string(s):\n",
        "    return s[::-1]\n",
        "\n",
        "print(reverse_string(\"hello\"))  # Output: \"olleh\"\n"
      ],
      "metadata": {
        "id": "tOrdbjieENWS",
        "colab": {
          "base_uri": "https://localhost:8080/"
        },
        "outputId": "efbad280-5551-489e-ba3b-f24466fe001c"
      },
      "execution_count": null,
      "outputs": [
        {
          "output_type": "stream",
          "name": "stdout",
          "text": [
            "olleh\n"
          ]
        }
      ]
    },
    {
      "cell_type": "markdown",
      "source": [
        "**Q. 3. Implement a Python function that takes a list of integers and returns a new list containing the squares of\n",
        "each number.**"
      ],
      "metadata": {
        "id": "W5bu4u-mEV2S"
      }
    },
    {
      "cell_type": "code",
      "source": [
        "def square_list(nums):\n",
        "    return [num ** 2 for num in nums]\n",
        "\n",
        "print(square_list([1, 2, 3]))  # Output: [1, 4, 9]\n"
      ],
      "metadata": {
        "id": "qe8DJdVsEf2K",
        "colab": {
          "base_uri": "https://localhost:8080/"
        },
        "outputId": "1dbbed1c-2b1c-4bf6-cf98-862dd46f7cad"
      },
      "execution_count": null,
      "outputs": [
        {
          "output_type": "stream",
          "name": "stdout",
          "text": [
            "[1, 4, 9]\n"
          ]
        }
      ]
    },
    {
      "cell_type": "markdown",
      "source": [
        "**Q. 4. Write a Python function that checks if a given number is prime or not from 1 to 200.**"
      ],
      "metadata": {
        "id": "uyxldKeFEh8D"
      }
    },
    {
      "cell_type": "code",
      "source": [
        "def is_prime(n):\n",
        "    if n < 2:\n",
        "        return False\n",
        "    for i in range(2, int(n ** 0.5) + 1):\n",
        "        if n % i == 0:\n",
        "            return False\n",
        "    return True\n",
        "\n",
        "primes = [num for num in range(1, 201) if is_prime(num)]\n",
        "print(primes)\n"
      ],
      "metadata": {
        "id": "7qJGtiasEnlr",
        "colab": {
          "base_uri": "https://localhost:8080/"
        },
        "outputId": "3f344088-01f3-4c1e-d2ef-70e6f4e11524"
      },
      "execution_count": null,
      "outputs": [
        {
          "output_type": "stream",
          "name": "stdout",
          "text": [
            "[2, 3, 5, 7, 11, 13, 17, 19, 23, 29, 31, 37, 41, 43, 47, 53, 59, 61, 67, 71, 73, 79, 83, 89, 97, 101, 103, 107, 109, 113, 127, 131, 137, 139, 149, 151, 157, 163, 167, 173, 179, 181, 191, 193, 197, 199]\n"
          ]
        }
      ]
    },
    {
      "cell_type": "markdown",
      "source": [
        "**Q. 5. Create an iterator class in Python that generates the Fibonacci sequence up to a specified number of\n",
        "terms.**"
      ],
      "metadata": {
        "id": "i5JeDcO3Eqe5"
      }
    },
    {
      "cell_type": "code",
      "source": [
        "class FibonacciIterator:\n",
        "    def __init__(self, terms):\n",
        "        self.terms = terms\n",
        "        self.a, self.b = 0, 1\n",
        "        self.count = 0\n",
        "\n",
        "    def __iter__(self):\n",
        "        return self\n",
        "\n",
        "    def __next__(self):\n",
        "        if self.count < self.terms:\n",
        "            result = self.a\n",
        "            self.a, self.b = self.b, self.a + self.b\n",
        "            self.count += 1\n",
        "            return result\n",
        "        else:\n",
        "            raise StopIteration\n",
        "\n",
        "fib = FibonacciIterator(5)\n",
        "for num in fib:\n",
        "    print(num)\n"
      ],
      "metadata": {
        "id": "ftuW7YFsE1Cz",
        "colab": {
          "base_uri": "https://localhost:8080/"
        },
        "outputId": "885979de-580e-403a-e42a-3bf1a990fd02"
      },
      "execution_count": null,
      "outputs": [
        {
          "output_type": "stream",
          "name": "stdout",
          "text": [
            "0\n",
            "1\n",
            "1\n",
            "2\n",
            "3\n"
          ]
        }
      ]
    },
    {
      "cell_type": "markdown",
      "source": [
        "**Q. 6. Write a generator function in Python that yields the powers of 2 up to a given exponent.**"
      ],
      "metadata": {
        "id": "qbJKZP9eE6vS"
      }
    },
    {
      "cell_type": "code",
      "source": [
        "def powers_of_2(exponent):\n",
        "    for i in range(exponent + 1):\n",
        "        yield 2 ** i\n",
        "\n",
        "for power in powers_of_2(5):\n",
        "    print(power)\n"
      ],
      "metadata": {
        "id": "GXFfAhofFBEp",
        "colab": {
          "base_uri": "https://localhost:8080/"
        },
        "outputId": "89c39929-622f-4e64-a3ea-21378f97d8cc"
      },
      "execution_count": null,
      "outputs": [
        {
          "output_type": "stream",
          "name": "stdout",
          "text": [
            "1\n",
            "2\n",
            "4\n",
            "8\n",
            "16\n",
            "32\n"
          ]
        }
      ]
    },
    {
      "cell_type": "markdown",
      "source": [
        "**Q. 7. Implement a generator function that reads a file line by line and yields each line as a string.**"
      ],
      "metadata": {
        "id": "CetaxY2bFDvz"
      }
    },
    {
      "cell_type": "code",
      "source": [
        "def read_file_line_by_line(file_path):\n",
        "    with open(file_path, 'r') as file:\n",
        "        for line in file:\n",
        "            yield line.strip()\n",
        "\n",
        "# Example of usage:\n",
        "for line in read_file_line_by_line('example.txt'):\n",
        "    print(line)\n"
      ],
      "metadata": {
        "id": "dpXP3420d_Dt"
      },
      "execution_count": null,
      "outputs": []
    },
    {
      "cell_type": "markdown",
      "source": [
        "**Q. 8. Use a lambda function in Python to sort a list of tuples based on the second element of each tuple.**"
      ],
      "metadata": {
        "id": "h94pCwfmFYU6"
      }
    },
    {
      "cell_type": "code",
      "source": [
        "data = [(1, 3), (2, 2), (3, 1)]\n",
        "sorted_data = sorted(data, key=lambda x: x[1])\n",
        "print(sorted_data)  # Output: [(3, 1), (2, 2), (1, 3)]\n"
      ],
      "metadata": {
        "id": "AaFEnFWIFjjZ",
        "colab": {
          "base_uri": "https://localhost:8080/"
        },
        "outputId": "048f9888-a565-4d6c-f7bd-eb1b5eceb428"
      },
      "execution_count": null,
      "outputs": [
        {
          "output_type": "stream",
          "name": "stdout",
          "text": [
            "[(3, 1), (2, 2), (1, 3)]\n"
          ]
        }
      ]
    },
    {
      "cell_type": "markdown",
      "source": [
        "**Q. 9. Write a Python program that uses `map()` to convert a list of temperatures from Celsius to Fahrenheit.**"
      ],
      "metadata": {
        "id": "VqNFMBPhFlwh"
      }
    },
    {
      "cell_type": "code",
      "source": [
        "celsius = [0, 25, 100]\n",
        "fahrenheit = list(map(lambda x: (x * 9/5) + 32, celsius))\n",
        "print(fahrenheit)  # Output: [32.0, 77.0, 212.0]\n"
      ],
      "metadata": {
        "id": "VqqiTjL8F1N5",
        "colab": {
          "base_uri": "https://localhost:8080/"
        },
        "outputId": "148b7eb8-e5a1-49e4-a923-02dfba6e9d64"
      },
      "execution_count": null,
      "outputs": [
        {
          "output_type": "stream",
          "name": "stdout",
          "text": [
            "[32.0, 77.0, 212.0]\n"
          ]
        }
      ]
    },
    {
      "cell_type": "markdown",
      "source": [
        "**Q. 10. Create a Python program that uses `filter()` to remove all the vowels from a given string.**"
      ],
      "metadata": {
        "id": "bVgnxMe6F3_Z"
      }
    },
    {
      "cell_type": "code",
      "source": [
        "def remove_vowels(s):\n",
        "    vowels = \"aeiouAEIOU\"\n",
        "    return ''.join(filter(lambda x: x not in vowels, s))\n",
        "\n",
        "print(remove_vowels(\"hello world\"))  # Output: \"hll wrld\"\n"
      ],
      "metadata": {
        "id": "Ve00142TGFVh",
        "colab": {
          "base_uri": "https://localhost:8080/"
        },
        "outputId": "472d0950-cc6a-4f2b-d8a6-d067e0143a60"
      },
      "execution_count": null,
      "outputs": [
        {
          "output_type": "stream",
          "name": "stdout",
          "text": [
            "hll wrld\n"
          ]
        }
      ]
    },
    {
      "cell_type": "markdown",
      "source": [
        "Q.11) Imagine an accounting routine used in a book shop. It works on a list with sublists, which look like this:\n",
        "Write a Python program, which returns a list with 2-tuples. Each tuple consists of the order number and the\n",
        "product of the price per item and the quantity. The product should be increased by 10,- € if the value of the\n",
        "order is smaller than 100,00 €."
      ],
      "metadata": {
        "id": "yOyOL4aiGIR6"
      }
    },
    {
      "cell_type": "code",
      "source": [
        "orders = [\n",
        "    [101, 5, 20],\n",
        "    [102, 2, 50],\n",
        "    [103, 1, 120]\n",
        "]\n",
        "\n",
        "order_values = [(order[0], (order[1] * order[2]) + (10 if order[1] * order[2] < 100 else 0)) for order in orders]\n",
        "print(order_values)  # [(101, 110), (102, 110), (103, 120)]\n"
      ],
      "metadata": {
        "id": "6fiUxPZnGyBK",
        "colab": {
          "base_uri": "https://localhost:8080/"
        },
        "outputId": "d4700aa4-00f4-42cf-feec-29385bb8c5ab"
      },
      "execution_count": null,
      "outputs": [
        {
          "output_type": "stream",
          "name": "stdout",
          "text": [
            "[(101, 100), (102, 100), (103, 120)]\n"
          ]
        }
      ]
    }
  ]
}